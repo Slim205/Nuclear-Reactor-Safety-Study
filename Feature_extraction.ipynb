{
  "nbformat": 4,
  "nbformat_minor": 0,
  "metadata": {
    "colab": {
      "provenance": [],
      "authorship_tag": "ABX9TyNt3A3TtSX2iagaO16FCnhW",
      "include_colab_link": true
    },
    "kernelspec": {
      "name": "python3",
      "display_name": "Python 3"
    },
    "language_info": {
      "name": "python"
    }
  },
  "cells": [
    {
      "cell_type": "markdown",
      "metadata": {
        "id": "view-in-github",
        "colab_type": "text"
      },
      "source": [
        "<a href=\"https://colab.research.google.com/github/Slim205/Nuclear-Reactor-Safety-Study/blob/main/Feature_extraction.ipynb\" target=\"_parent\"><img src=\"https://colab.research.google.com/assets/colab-badge.svg\" alt=\"Open In Colab\"/></a>"
      ]
    },
    {
      "cell_type": "markdown",
      "source": [
        "# Mutual Inforamtion :"
      ],
      "metadata": {
        "id": "g4IWDWaDgBQz"
      }
    },
    {
      "cell_type": "code",
      "execution_count": null,
      "metadata": {
        "colab": {
          "base_uri": "https://localhost:8080/"
        },
        "id": "hqbBabPidosJ",
        "outputId": "1e063145-0794-424b-8fbd-04d0fb9a59d1"
      },
      "outputs": [
        {
          "output_type": "stream",
          "name": "stderr",
          "text": [
            "<ipython-input-11-cb94cf75410a>:8: MatplotlibDeprecationWarning: The seaborn styles shipped by Matplotlib are deprecated since 3.6, as they no longer correspond to the styles shipped by seaborn. However, they will remain available as 'seaborn-v0_8-<style>'. Alternatively, directly use the seaborn API instead.\n",
            "  plt.style.use(\"seaborn-whitegrid\")\n"
          ]
        }
      ],
      "source": [
        "import matplotlib.pyplot as plt\n",
        "import numpy as np\n",
        "import pandas as pd\n",
        "import seaborn as sns\n",
        "from sklearn.feature_selection import mutual_info_regression\n",
        "\n",
        "# Set Matplotlib defaults\n",
        "plt.style.use(\"seaborn-whitegrid\")\n",
        "plt.rc(\"figure\", autolayout=True)\n",
        "plt.rc(\n",
        "    \"axes\",\n",
        "    labelweight=\"bold\",\n",
        "    labelsize=\"large\",\n",
        "    titleweight=\"bold\",\n",
        "    titlesize=14,\n",
        "    titlepad=10,\n",
        ")\n",
        "\n",
        "\n",
        "# Load data\n",
        "df = pd.read_csv(\"test.csv\")\n",
        "\n",
        "\n",
        "# Utility functions from Tutorial\n",
        "def make_mi_scores(X, y):\n",
        "    X = X.copy()\n",
        "    for colname in X.select_dtypes([\"object\", \"category\"]):\n",
        "        X[colname], _ = X[colname].factorize()\n",
        "    # All discrete features should now have integer dtypes\n",
        "    discrete_features = [pd.api.types.is_integer_dtype(t) for t in X.dtypes]\n",
        "    mi_scores = mutual_info_regression(X, y, discrete_features=discrete_features, random_state=0)\n",
        "    mi_scores = pd.Series(mi_scores, name=\"MI Scores\", index=X.columns)\n",
        "    mi_scores = mi_scores.sort_values(ascending=False)\n",
        "    return mi_scores\n",
        "\n",
        "\n",
        "def plot_mi_scores(scores):\n",
        "    scores = scores.sort_values(ascending=True)\n",
        "    width = np.arange(len(scores))\n",
        "    ticks = list(scores.index)\n",
        "    plt.barh(width, scores)\n",
        "    plt.yticks(width, ticks)\n",
        "    plt.title(\"Mutual Information Scores\")"
      ]
    },
    {
      "cell_type": "code",
      "source": [
        "df.pop('Unnamed: 0')"
      ],
      "metadata": {
        "colab": {
          "base_uri": "https://localhost:8080/"
        },
        "id": "G_IbfTHheXnt",
        "outputId": "40fd9967-5f4a-456e-ae58-391969f68608"
      },
      "execution_count": null,
      "outputs": [
        {
          "output_type": "execute_result",
          "data": {
            "text/plain": [
              "0      491\n",
              "1      349\n",
              "2       30\n",
              "3      200\n",
              "4      227\n",
              "      ... \n",
              "495    694\n",
              "496    526\n",
              "497    587\n",
              "498    850\n",
              "499    427\n",
              "Name: Unnamed: 0, Length: 500, dtype: int64"
            ]
          },
          "metadata": {},
          "execution_count": 18
        }
      ]
    },
    {
      "cell_type": "code",
      "source": [
        "df"
      ],
      "metadata": {
        "colab": {
          "base_uri": "https://localhost:8080/",
          "height": 467
        },
        "id": "56fePNV6fwk6",
        "outputId": "10700f9c-9ad2-473a-bc3f-36bd1ee98cf6"
      },
      "execution_count": null,
      "outputs": [
        {
          "output_type": "execute_result",
          "data": {
            "text/plain": [
              "     Enthalpie_R1  Pression_R1  Carac_evac_R1  Temperature_R2  \\\n",
              "0    102948.94210     43.26443     1109.19443        30.72276   \n",
              "1     42716.42011     43.36316     1813.36656        30.23835   \n",
              "2     56336.74453     42.31880     1291.78206        45.90732   \n",
              "3     71363.37814     43.11073     1141.27439        42.26264   \n",
              "4     96877.02612     43.08488      808.37851        25.73034   \n",
              "..            ...          ...            ...             ...   \n",
              "495   60547.45032     42.04018      971.77295        40.35916   \n",
              "496   47173.24942     42.83448     1112.30410         8.21581   \n",
              "497   54957.68264     42.02845     1114.13291        55.63390   \n",
              "498   59764.47810     41.44554     1125.88196        11.67939   \n",
              "499   80033.38989     41.99355     1840.31032        51.75990   \n",
              "\n",
              "     Puissance_P1_R2  Puissance_P2_R2  Critere_temperature  Critere_chargement  \n",
              "0            0.71778          0.57183               10.372               1.115  \n",
              "1            0.17922          0.48744               11.893               1.069  \n",
              "2            0.07189          0.74322               20.617               1.439  \n",
              "3            0.23294          0.98156               16.449               1.313  \n",
              "4            0.70311          0.58696                5.549               1.058  \n",
              "..               ...              ...                  ...                 ...  \n",
              "495          0.74656          0.13991               26.803               1.313  \n",
              "496          0.11723          0.74553              -11.813               0.832  \n",
              "497          0.22813          0.79770               30.680               1.769  \n",
              "498          0.45930          0.42631               -8.601               0.884  \n",
              "499          0.19107          0.38591               37.023               1.573  \n",
              "\n",
              "[500 rows x 8 columns]"
            ],
            "text/html": [
              "\n",
              "\n",
              "  <div id=\"df-664f15c8-e616-4c7a-859b-e3a7bb94c752\">\n",
              "    <div class=\"colab-df-container\">\n",
              "      <div>\n",
              "<style scoped>\n",
              "    .dataframe tbody tr th:only-of-type {\n",
              "        vertical-align: middle;\n",
              "    }\n",
              "\n",
              "    .dataframe tbody tr th {\n",
              "        vertical-align: top;\n",
              "    }\n",
              "\n",
              "    .dataframe thead th {\n",
              "        text-align: right;\n",
              "    }\n",
              "</style>\n",
              "<table border=\"1\" class=\"dataframe\">\n",
              "  <thead>\n",
              "    <tr style=\"text-align: right;\">\n",
              "      <th></th>\n",
              "      <th>Enthalpie_R1</th>\n",
              "      <th>Pression_R1</th>\n",
              "      <th>Carac_evac_R1</th>\n",
              "      <th>Temperature_R2</th>\n",
              "      <th>Puissance_P1_R2</th>\n",
              "      <th>Puissance_P2_R2</th>\n",
              "      <th>Critere_temperature</th>\n",
              "      <th>Critere_chargement</th>\n",
              "    </tr>\n",
              "  </thead>\n",
              "  <tbody>\n",
              "    <tr>\n",
              "      <th>0</th>\n",
              "      <td>102948.94210</td>\n",
              "      <td>43.26443</td>\n",
              "      <td>1109.19443</td>\n",
              "      <td>30.72276</td>\n",
              "      <td>0.71778</td>\n",
              "      <td>0.57183</td>\n",
              "      <td>10.372</td>\n",
              "      <td>1.115</td>\n",
              "    </tr>\n",
              "    <tr>\n",
              "      <th>1</th>\n",
              "      <td>42716.42011</td>\n",
              "      <td>43.36316</td>\n",
              "      <td>1813.36656</td>\n",
              "      <td>30.23835</td>\n",
              "      <td>0.17922</td>\n",
              "      <td>0.48744</td>\n",
              "      <td>11.893</td>\n",
              "      <td>1.069</td>\n",
              "    </tr>\n",
              "    <tr>\n",
              "      <th>2</th>\n",
              "      <td>56336.74453</td>\n",
              "      <td>42.31880</td>\n",
              "      <td>1291.78206</td>\n",
              "      <td>45.90732</td>\n",
              "      <td>0.07189</td>\n",
              "      <td>0.74322</td>\n",
              "      <td>20.617</td>\n",
              "      <td>1.439</td>\n",
              "    </tr>\n",
              "    <tr>\n",
              "      <th>3</th>\n",
              "      <td>71363.37814</td>\n",
              "      <td>43.11073</td>\n",
              "      <td>1141.27439</td>\n",
              "      <td>42.26264</td>\n",
              "      <td>0.23294</td>\n",
              "      <td>0.98156</td>\n",
              "      <td>16.449</td>\n",
              "      <td>1.313</td>\n",
              "    </tr>\n",
              "    <tr>\n",
              "      <th>4</th>\n",
              "      <td>96877.02612</td>\n",
              "      <td>43.08488</td>\n",
              "      <td>808.37851</td>\n",
              "      <td>25.73034</td>\n",
              "      <td>0.70311</td>\n",
              "      <td>0.58696</td>\n",
              "      <td>5.549</td>\n",
              "      <td>1.058</td>\n",
              "    </tr>\n",
              "    <tr>\n",
              "      <th>...</th>\n",
              "      <td>...</td>\n",
              "      <td>...</td>\n",
              "      <td>...</td>\n",
              "      <td>...</td>\n",
              "      <td>...</td>\n",
              "      <td>...</td>\n",
              "      <td>...</td>\n",
              "      <td>...</td>\n",
              "    </tr>\n",
              "    <tr>\n",
              "      <th>495</th>\n",
              "      <td>60547.45032</td>\n",
              "      <td>42.04018</td>\n",
              "      <td>971.77295</td>\n",
              "      <td>40.35916</td>\n",
              "      <td>0.74656</td>\n",
              "      <td>0.13991</td>\n",
              "      <td>26.803</td>\n",
              "      <td>1.313</td>\n",
              "    </tr>\n",
              "    <tr>\n",
              "      <th>496</th>\n",
              "      <td>47173.24942</td>\n",
              "      <td>42.83448</td>\n",
              "      <td>1112.30410</td>\n",
              "      <td>8.21581</td>\n",
              "      <td>0.11723</td>\n",
              "      <td>0.74553</td>\n",
              "      <td>-11.813</td>\n",
              "      <td>0.832</td>\n",
              "    </tr>\n",
              "    <tr>\n",
              "      <th>497</th>\n",
              "      <td>54957.68264</td>\n",
              "      <td>42.02845</td>\n",
              "      <td>1114.13291</td>\n",
              "      <td>55.63390</td>\n",
              "      <td>0.22813</td>\n",
              "      <td>0.79770</td>\n",
              "      <td>30.680</td>\n",
              "      <td>1.769</td>\n",
              "    </tr>\n",
              "    <tr>\n",
              "      <th>498</th>\n",
              "      <td>59764.47810</td>\n",
              "      <td>41.44554</td>\n",
              "      <td>1125.88196</td>\n",
              "      <td>11.67939</td>\n",
              "      <td>0.45930</td>\n",
              "      <td>0.42631</td>\n",
              "      <td>-8.601</td>\n",
              "      <td>0.884</td>\n",
              "    </tr>\n",
              "    <tr>\n",
              "      <th>499</th>\n",
              "      <td>80033.38989</td>\n",
              "      <td>41.99355</td>\n",
              "      <td>1840.31032</td>\n",
              "      <td>51.75990</td>\n",
              "      <td>0.19107</td>\n",
              "      <td>0.38591</td>\n",
              "      <td>37.023</td>\n",
              "      <td>1.573</td>\n",
              "    </tr>\n",
              "  </tbody>\n",
              "</table>\n",
              "<p>500 rows × 8 columns</p>\n",
              "</div>\n",
              "      <button class=\"colab-df-convert\" onclick=\"convertToInteractive('df-664f15c8-e616-4c7a-859b-e3a7bb94c752')\"\n",
              "              title=\"Convert this dataframe to an interactive table.\"\n",
              "              style=\"display:none;\">\n",
              "\n",
              "  <svg xmlns=\"http://www.w3.org/2000/svg\" height=\"24px\"viewBox=\"0 0 24 24\"\n",
              "       width=\"24px\">\n",
              "    <path d=\"M0 0h24v24H0V0z\" fill=\"none\"/>\n",
              "    <path d=\"M18.56 5.44l.94 2.06.94-2.06 2.06-.94-2.06-.94-.94-2.06-.94 2.06-2.06.94zm-11 1L8.5 8.5l.94-2.06 2.06-.94-2.06-.94L8.5 2.5l-.94 2.06-2.06.94zm10 10l.94 2.06.94-2.06 2.06-.94-2.06-.94-.94-2.06-.94 2.06-2.06.94z\"/><path d=\"M17.41 7.96l-1.37-1.37c-.4-.4-.92-.59-1.43-.59-.52 0-1.04.2-1.43.59L10.3 9.45l-7.72 7.72c-.78.78-.78 2.05 0 2.83L4 21.41c.39.39.9.59 1.41.59.51 0 1.02-.2 1.41-.59l7.78-7.78 2.81-2.81c.8-.78.8-2.07 0-2.86zM5.41 20L4 18.59l7.72-7.72 1.47 1.35L5.41 20z\"/>\n",
              "  </svg>\n",
              "      </button>\n",
              "\n",
              "\n",
              "\n",
              "    <div id=\"df-3a5e1de9-1cf9-40d6-a06d-aa5bede8a034\">\n",
              "      <button class=\"colab-df-quickchart\" onclick=\"quickchart('df-3a5e1de9-1cf9-40d6-a06d-aa5bede8a034')\"\n",
              "              title=\"Suggest charts.\"\n",
              "              style=\"display:none;\">\n",
              "\n",
              "<svg xmlns=\"http://www.w3.org/2000/svg\" height=\"24px\"viewBox=\"0 0 24 24\"\n",
              "     width=\"24px\">\n",
              "    <g>\n",
              "        <path d=\"M19 3H5c-1.1 0-2 .9-2 2v14c0 1.1.9 2 2 2h14c1.1 0 2-.9 2-2V5c0-1.1-.9-2-2-2zM9 17H7v-7h2v7zm4 0h-2V7h2v10zm4 0h-2v-4h2v4z\"/>\n",
              "    </g>\n",
              "</svg>\n",
              "      </button>\n",
              "    </div>\n",
              "\n",
              "<style>\n",
              "  .colab-df-quickchart {\n",
              "    background-color: #E8F0FE;\n",
              "    border: none;\n",
              "    border-radius: 50%;\n",
              "    cursor: pointer;\n",
              "    display: none;\n",
              "    fill: #1967D2;\n",
              "    height: 32px;\n",
              "    padding: 0 0 0 0;\n",
              "    width: 32px;\n",
              "  }\n",
              "\n",
              "  .colab-df-quickchart:hover {\n",
              "    background-color: #E2EBFA;\n",
              "    box-shadow: 0px 1px 2px rgba(60, 64, 67, 0.3), 0px 1px 3px 1px rgba(60, 64, 67, 0.15);\n",
              "    fill: #174EA6;\n",
              "  }\n",
              "\n",
              "  [theme=dark] .colab-df-quickchart {\n",
              "    background-color: #3B4455;\n",
              "    fill: #D2E3FC;\n",
              "  }\n",
              "\n",
              "  [theme=dark] .colab-df-quickchart:hover {\n",
              "    background-color: #434B5C;\n",
              "    box-shadow: 0px 1px 3px 1px rgba(0, 0, 0, 0.15);\n",
              "    filter: drop-shadow(0px 1px 2px rgba(0, 0, 0, 0.3));\n",
              "    fill: #FFFFFF;\n",
              "  }\n",
              "</style>\n",
              "\n",
              "    <script>\n",
              "      async function quickchart(key) {\n",
              "        const containerElement = document.querySelector('#' + key);\n",
              "        const charts = await google.colab.kernel.invokeFunction(\n",
              "            'suggestCharts', [key], {});\n",
              "      }\n",
              "    </script>\n",
              "\n",
              "      <script>\n",
              "\n",
              "function displayQuickchartButton(domScope) {\n",
              "  let quickchartButtonEl =\n",
              "    domScope.querySelector('#df-3a5e1de9-1cf9-40d6-a06d-aa5bede8a034 button.colab-df-quickchart');\n",
              "  quickchartButtonEl.style.display =\n",
              "    google.colab.kernel.accessAllowed ? 'block' : 'none';\n",
              "}\n",
              "\n",
              "        displayQuickchartButton(document);\n",
              "      </script>\n",
              "      <style>\n",
              "    .colab-df-container {\n",
              "      display:flex;\n",
              "      flex-wrap:wrap;\n",
              "      gap: 12px;\n",
              "    }\n",
              "\n",
              "    .colab-df-convert {\n",
              "      background-color: #E8F0FE;\n",
              "      border: none;\n",
              "      border-radius: 50%;\n",
              "      cursor: pointer;\n",
              "      display: none;\n",
              "      fill: #1967D2;\n",
              "      height: 32px;\n",
              "      padding: 0 0 0 0;\n",
              "      width: 32px;\n",
              "    }\n",
              "\n",
              "    .colab-df-convert:hover {\n",
              "      background-color: #E2EBFA;\n",
              "      box-shadow: 0px 1px 2px rgba(60, 64, 67, 0.3), 0px 1px 3px 1px rgba(60, 64, 67, 0.15);\n",
              "      fill: #174EA6;\n",
              "    }\n",
              "\n",
              "    [theme=dark] .colab-df-convert {\n",
              "      background-color: #3B4455;\n",
              "      fill: #D2E3FC;\n",
              "    }\n",
              "\n",
              "    [theme=dark] .colab-df-convert:hover {\n",
              "      background-color: #434B5C;\n",
              "      box-shadow: 0px 1px 3px 1px rgba(0, 0, 0, 0.15);\n",
              "      filter: drop-shadow(0px 1px 2px rgba(0, 0, 0, 0.3));\n",
              "      fill: #FFFFFF;\n",
              "    }\n",
              "  </style>\n",
              "\n",
              "      <script>\n",
              "        const buttonEl =\n",
              "          document.querySelector('#df-664f15c8-e616-4c7a-859b-e3a7bb94c752 button.colab-df-convert');\n",
              "        buttonEl.style.display =\n",
              "          google.colab.kernel.accessAllowed ? 'block' : 'none';\n",
              "\n",
              "        async function convertToInteractive(key) {\n",
              "          const element = document.querySelector('#df-664f15c8-e616-4c7a-859b-e3a7bb94c752');\n",
              "          const dataTable =\n",
              "            await google.colab.kernel.invokeFunction('convertToInteractive',\n",
              "                                                     [key], {});\n",
              "          if (!dataTable) return;\n",
              "\n",
              "          const docLinkHtml = 'Like what you see? Visit the ' +\n",
              "            '<a target=\"_blank\" href=https://colab.research.google.com/notebooks/data_table.ipynb>data table notebook</a>'\n",
              "            + ' to learn more about interactive tables.';\n",
              "          element.innerHTML = '';\n",
              "          dataTable['output_type'] = 'display_data';\n",
              "          await google.colab.output.renderOutput(dataTable, element);\n",
              "          const docLink = document.createElement('div');\n",
              "          docLink.innerHTML = docLinkHtml;\n",
              "          element.appendChild(docLink);\n",
              "        }\n",
              "      </script>\n",
              "    </div>\n",
              "  </div>\n"
            ]
          },
          "metadata": {},
          "execution_count": 19
        }
      ]
    },
    {
      "cell_type": "code",
      "source": [
        "X = df.copy()\n",
        "y = X.pop('Critere_temperature')\n",
        "z = X.pop('Critere_chargement')\n",
        "\n",
        "mi_scores = make_mi_scores(X, y)"
      ],
      "metadata": {
        "id": "vABH6_CXeJe5"
      },
      "execution_count": null,
      "outputs": []
    },
    {
      "cell_type": "code",
      "source": [
        "print(mi_scores.head(20))\n",
        "# print(mi_scores.tail(20))  # uncomment to see bottom 20\n",
        "\n",
        "plt.figure(dpi=100, figsize=(8, 5))\n",
        "plot_mi_scores(mi_scores.head(20))\n",
        "# plot_mi_scores(mi_scores.tail(20))  # uncomment to see bottom 20"
      ],
      "metadata": {
        "colab": {
          "base_uri": "https://localhost:8080/",
          "height": 628
        },
        "id": "gzJu_S-rf0rl",
        "outputId": "673364fa-77bb-487a-c9e1-3cd4df8460ce"
      },
      "execution_count": null,
      "outputs": [
        {
          "output_type": "stream",
          "name": "stdout",
          "text": [
            "Temperature_R2     1.454224\n",
            "Puissance_P1_R2    0.082194\n",
            "Puissance_P2_R2    0.070946\n",
            "Carac_evac_R1      0.001102\n",
            "Enthalpie_R1       0.000000\n",
            "Pression_R1        0.000000\n",
            "Name: MI Scores, dtype: float64\n"
          ]
        },
        {
          "output_type": "display_data",
          "data": {
            "text/plain": [
              "<Figure size 800x500 with 1 Axes>"
            ],
            "image/png": "[encoded data removed]"
          },
          "metadata": {}
        }
      ]
    },
    {
      "cell_type": "code",
      "source": [
        "#Temperature is the most important feature"
      ],
      "metadata": {
        "id": "XBXls1_Rgbxp"
      },
      "execution_count": null,
      "outputs": []
    },
    {
      "cell_type": "markdown",
      "source": [
        "# Creating features :"
      ],
      "metadata": {
        "id": "BEbNC2i7gXpn"
      }
    },
    {
      "cell_type": "code",
      "source": [],
      "metadata": {
        "id": "kqKjNEJMgXRy"
      },
      "execution_count": null,
      "outputs": []
    },
    {
      "cell_type": "code",
      "source": [],
      "metadata": {
        "id": "cbohbyGpgK7B"
      },
      "execution_count": null,
      "outputs": []
    }
  ]
}